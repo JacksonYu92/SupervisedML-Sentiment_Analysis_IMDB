{
 "cells": [
  {
   "cell_type": "markdown",
   "metadata": {},
   "source": [
    "# Classifying IMDB movie reviews"
   ]
  },
  {
   "cell_type": "code",
   "execution_count": 1,
   "metadata": {},
   "outputs": [],
   "source": [
    "import turicreate as tc\n",
    "import utils"
   ]
  },
  {
   "cell_type": "code",
   "execution_count": 2,
   "metadata": {},
   "outputs": [
    {
     "data": {
      "text/html": [
       "<pre>Finished parsing file /home/qyu2/SupervisedML/Assignment4/IMDB_Dataset.csv</pre>"
      ],
      "text/plain": [
       "Finished parsing file /home/qyu2/SupervisedML/Assignment4/IMDB_Dataset.csv"
      ]
     },
     "metadata": {},
     "output_type": "display_data"
    },
    {
     "data": {
      "text/html": [
       "<pre>Parsing completed. Parsed 100 lines in 0.361338 secs.</pre>"
      ],
      "text/plain": [
       "Parsing completed. Parsed 100 lines in 0.361338 secs."
      ]
     },
     "metadata": {},
     "output_type": "display_data"
    },
    {
     "name": "stdout",
     "output_type": "stream",
     "text": [
      "------------------------------------------------------\n",
      "Inferred types from first 100 line(s) of file as \n",
      "column_type_hints=[str,str]\n",
      "If parsing fails due to incorrect types, you can correct\n",
      "the inferred type list above and pass it to read_csv in\n",
      "the column_type_hints argument\n",
      "------------------------------------------------------\n"
     ]
    },
    {
     "data": {
      "text/html": [
       "<pre>Read 39624 lines. Lines per second: 59594.8</pre>"
      ],
      "text/plain": [
       "Read 39624 lines. Lines per second: 59594.8"
      ]
     },
     "metadata": {},
     "output_type": "display_data"
    },
    {
     "data": {
      "text/html": [
       "<pre>Finished parsing file /home/qyu2/SupervisedML/Assignment4/IMDB_Dataset.csv</pre>"
      ],
      "text/plain": [
       "Finished parsing file /home/qyu2/SupervisedML/Assignment4/IMDB_Dataset.csv"
      ]
     },
     "metadata": {},
     "output_type": "display_data"
    },
    {
     "data": {
      "text/html": [
       "<pre>Parsing completed. Parsed 50000 lines in 0.823681 secs.</pre>"
      ],
      "text/plain": [
       "Parsing completed. Parsed 50000 lines in 0.823681 secs."
      ]
     },
     "metadata": {},
     "output_type": "display_data"
    },
    {
     "data": {
      "text/html": [
       "<div style=\"max-height:1000px;max-width:1500px;overflow:auto;\"><table frame=\"box\" rules=\"cols\">\n",
       "    <tr>\n",
       "        <th style=\"padding-left: 1em; padding-right: 1em; text-align: center\">review</th>\n",
       "        <th style=\"padding-left: 1em; padding-right: 1em; text-align: center\">sentiment</th>\n",
       "    </tr>\n",
       "    <tr>\n",
       "        <td style=\"padding-left: 1em; padding-right: 1em; text-align: center; vertical-align: top\">One of the other<br>reviewers has mentioned ...</td>\n",
       "        <td style=\"padding-left: 1em; padding-right: 1em; text-align: center; vertical-align: top\">positive</td>\n",
       "    </tr>\n",
       "    <tr>\n",
       "        <td style=\"padding-left: 1em; padding-right: 1em; text-align: center; vertical-align: top\">A wonderful little<br>production. &lt;br /&gt;&lt;br ...</td>\n",
       "        <td style=\"padding-left: 1em; padding-right: 1em; text-align: center; vertical-align: top\">positive</td>\n",
       "    </tr>\n",
       "    <tr>\n",
       "        <td style=\"padding-left: 1em; padding-right: 1em; text-align: center; vertical-align: top\">I thought this was a<br>wonderful way to spend ...</td>\n",
       "        <td style=\"padding-left: 1em; padding-right: 1em; text-align: center; vertical-align: top\">positive</td>\n",
       "    </tr>\n",
       "    <tr>\n",
       "        <td style=\"padding-left: 1em; padding-right: 1em; text-align: center; vertical-align: top\">Basically there&#x27;s a<br>family where a little ...</td>\n",
       "        <td style=\"padding-left: 1em; padding-right: 1em; text-align: center; vertical-align: top\">negative</td>\n",
       "    </tr>\n",
       "    <tr>\n",
       "        <td style=\"padding-left: 1em; padding-right: 1em; text-align: center; vertical-align: top\">Petter Mattei&#x27;s &quot;Love in<br>the Time of Money&quot; is a ...</td>\n",
       "        <td style=\"padding-left: 1em; padding-right: 1em; text-align: center; vertical-align: top\">positive</td>\n",
       "    </tr>\n",
       "    <tr>\n",
       "        <td style=\"padding-left: 1em; padding-right: 1em; text-align: center; vertical-align: top\">Probably my all-time<br>favorite movie, a story ...</td>\n",
       "        <td style=\"padding-left: 1em; padding-right: 1em; text-align: center; vertical-align: top\">positive</td>\n",
       "    </tr>\n",
       "    <tr>\n",
       "        <td style=\"padding-left: 1em; padding-right: 1em; text-align: center; vertical-align: top\">I sure would like to see<br>a resurrection of a up ...</td>\n",
       "        <td style=\"padding-left: 1em; padding-right: 1em; text-align: center; vertical-align: top\">positive</td>\n",
       "    </tr>\n",
       "    <tr>\n",
       "        <td style=\"padding-left: 1em; padding-right: 1em; text-align: center; vertical-align: top\">This show was an amazing,<br>fresh &amp; innovative idea ...</td>\n",
       "        <td style=\"padding-left: 1em; padding-right: 1em; text-align: center; vertical-align: top\">negative</td>\n",
       "    </tr>\n",
       "    <tr>\n",
       "        <td style=\"padding-left: 1em; padding-right: 1em; text-align: center; vertical-align: top\">Encouraged by the<br>positive comments about ...</td>\n",
       "        <td style=\"padding-left: 1em; padding-right: 1em; text-align: center; vertical-align: top\">negative</td>\n",
       "    </tr>\n",
       "    <tr>\n",
       "        <td style=\"padding-left: 1em; padding-right: 1em; text-align: center; vertical-align: top\">If you like original gut<br>wrenching laughter you ...</td>\n",
       "        <td style=\"padding-left: 1em; padding-right: 1em; text-align: center; vertical-align: top\">positive</td>\n",
       "    </tr>\n",
       "</table>\n",
       "[50000 rows x 2 columns]<br/>Note: Only the head of the SFrame is printed.<br/>You can use print_rows(num_rows=m, num_columns=n) to print more rows and columns.\n",
       "</div>"
      ],
      "text/plain": [
       "Columns:\n",
       "\treview\tstr\n",
       "\tsentiment\tstr\n",
       "\n",
       "Rows: 50000\n",
       "\n",
       "Data:\n",
       "+-------------------------------+-----------+\n",
       "|             review            | sentiment |\n",
       "+-------------------------------+-----------+\n",
       "| One of the other reviewers... |  positive |\n",
       "| A wonderful little product... |  positive |\n",
       "| I thought this was a wonde... |  positive |\n",
       "| Basically there's a family... |  negative |\n",
       "| Petter Mattei's \"Love in t... |  positive |\n",
       "| Probably my all-time favor... |  positive |\n",
       "| I sure would like to see a... |  positive |\n",
       "| This show was an amazing, ... |  negative |\n",
       "| Encouraged by the positive... |  negative |\n",
       "| If you like original gut w... |  positive |\n",
       "+-------------------------------+-----------+\n",
       "[50000 rows x 2 columns]\n",
       "Note: Only the head of the SFrame is printed.\n",
       "You can use print_rows(num_rows=m, num_columns=n) to print more rows and columns."
      ]
     },
     "execution_count": 2,
     "metadata": {},
     "output_type": "execute_result"
    }
   ],
   "source": [
    "movies = tc.SFrame('./IMDB_Dataset.csv')\n",
    "movies"
   ]
  },
  {
   "cell_type": "markdown",
   "metadata": {},
   "source": [
    "### 2a) There are 50,000 rows and 2 columns in the dataset, each row includes one item so there are 50,000 items are in the dataset. Each row includes the text of one review and the sentiment of that review (either positive or negative). The column for the text of review is named as review, and the column for the sentiment of review is named as sentiment. "
   ]
  },
  {
   "cell_type": "markdown",
   "metadata": {},
   "source": [
    "### 2b) The sentiment of review is labelled as either \"positive\" or \"negative\". "
   ]
  },
  {
   "cell_type": "code",
   "execution_count": 3,
   "metadata": {},
   "outputs": [
    {
     "data": {
      "text/html": [
       "<div style=\"max-height:1000px;max-width:1500px;overflow:auto;\"><table frame=\"box\" rules=\"cols\">\n",
       "    <tr>\n",
       "        <th style=\"padding-left: 1em; padding-right: 1em; text-align: center\">review</th>\n",
       "        <th style=\"padding-left: 1em; padding-right: 1em; text-align: center\">sentiment</th>\n",
       "        <th style=\"padding-left: 1em; padding-right: 1em; text-align: center\">words</th>\n",
       "    </tr>\n",
       "    <tr>\n",
       "        <td style=\"padding-left: 1em; padding-right: 1em; text-align: center; vertical-align: top\">One of the other<br>reviewers has mentioned ...</td>\n",
       "        <td style=\"padding-left: 1em; padding-right: 1em; text-align: center; vertical-align: top\">positive</td>\n",
       "        <td style=\"padding-left: 1em; padding-right: 1em; text-align: center; vertical-align: top\">{&#x27;darker&#x27;: 1.0, &#x27;touch&#x27;:<br>1.0, &#x27;thats&#x27;: 1.0, ...</td>\n",
       "    </tr>\n",
       "    <tr>\n",
       "        <td style=\"padding-left: 1em; padding-right: 1em; text-align: center; vertical-align: top\">A wonderful little<br>production. &lt;br /&gt;&lt;br ...</td>\n",
       "        <td style=\"padding-left: 1em; padding-right: 1em; text-align: center; vertical-align: top\">positive</td>\n",
       "        <td style=\"padding-left: 1em; padding-right: 1em; text-align: center; vertical-align: top\">{&#x27;done&#x27;: 1.0, &#x27;surface&#x27;:<br>1.0, &#x27;every&#x27;: 1.0, ...</td>\n",
       "    </tr>\n",
       "    <tr>\n",
       "        <td style=\"padding-left: 1em; padding-right: 1em; text-align: center; vertical-align: top\">I thought this was a<br>wonderful way to spend ...</td>\n",
       "        <td style=\"padding-left: 1em; padding-right: 1em; text-align: center; vertical-align: top\">positive</td>\n",
       "        <td style=\"padding-left: 1em; padding-right: 1em; text-align: center; vertical-align: top\">{&#x27;go&#x27;: 1.0, &#x27;superman&#x27;:<br>1.0, &#x27;interesting&#x27;: 1.0, ...</td>\n",
       "    </tr>\n",
       "    <tr>\n",
       "        <td style=\"padding-left: 1em; padding-right: 1em; text-align: center; vertical-align: top\">Basically there&#x27;s a<br>family where a little ...</td>\n",
       "        <td style=\"padding-left: 1em; padding-right: 1em; text-align: center; vertical-align: top\">negative</td>\n",
       "        <td style=\"padding-left: 1em; padding-right: 1em; text-align: center; vertical-align: top\">{&#x27;them&#x27;: 1.0, &#x27;ignore&#x27;:<br>1.0, &#x27;dialogs&#x27;: 1.0, ...</td>\n",
       "    </tr>\n",
       "    <tr>\n",
       "        <td style=\"padding-left: 1em; padding-right: 1em; text-align: center; vertical-align: top\">Petter Mattei&#x27;s &quot;Love in<br>the Time of Money&quot; is a ...</td>\n",
       "        <td style=\"padding-left: 1em; padding-right: 1em; text-align: center; vertical-align: top\">positive</td>\n",
       "        <td style=\"padding-left: 1em; padding-right: 1em; text-align: center; vertical-align: top\">{&#x27;work&#x27;: 1.0, &#x27;for&#x27;: 1.0,<br>&#x27;anxiously&#x27;: 1.0, ...</td>\n",
       "    </tr>\n",
       "    <tr>\n",
       "        <td style=\"padding-left: 1em; padding-right: 1em; text-align: center; vertical-align: top\">Probably my all-time<br>favorite movie, a story ...</td>\n",
       "        <td style=\"padding-left: 1em; padding-right: 1em; text-align: center; vertical-align: top\">positive</td>\n",
       "        <td style=\"padding-left: 1em; padding-right: 1em; text-align: center; vertical-align: top\">{&#x27;for&#x27;: 1.0, &#x27;dozen&#x27;:<br>1.0, &#x27;i&#x27;: 1.0, &#x27;if&#x27;:  ...</td>\n",
       "    </tr>\n",
       "    <tr>\n",
       "        <td style=\"padding-left: 1em; padding-right: 1em; text-align: center; vertical-align: top\">I sure would like to see<br>a resurrection of a up ...</td>\n",
       "        <td style=\"padding-left: 1em; padding-right: 1em; text-align: center; vertical-align: top\">positive</td>\n",
       "        <td style=\"padding-left: 1em; padding-right: 1em; text-align: center; vertical-align: top\">{&#x27;do&#x27;: 1.0, &#x27;go&#x27;: 1.0,<br>&#x27;s&#x27;: 1.0, &#x27;a&#x27;: 6.0, ...</td>\n",
       "    </tr>\n",
       "    <tr>\n",
       "        <td style=\"padding-left: 1em; padding-right: 1em; text-align: center; vertical-align: top\">This show was an amazing,<br>fresh &amp; innovative idea ...</td>\n",
       "        <td style=\"padding-left: 1em; padding-right: 1em; text-align: center; vertical-align: top\">negative</td>\n",
       "        <td style=\"padding-left: 1em; padding-right: 1em; text-align: center; vertical-align: top\">{&#x27;awful&#x27;: 1.0, &#x27;just&#x27;:<br>1.0, &#x27;huge&#x27;: 1.0, &#x27;a&#x27;: ...</td>\n",
       "    </tr>\n",
       "    <tr>\n",
       "        <td style=\"padding-left: 1em; padding-right: 1em; text-align: center; vertical-align: top\">Encouraged by the<br>positive comments about ...</td>\n",
       "        <td style=\"padding-left: 1em; padding-right: 1em; text-align: center; vertical-align: top\">negative</td>\n",
       "        <td style=\"padding-left: 1em; padding-right: 1em; text-align: center; vertical-align: top\">{&#x27;effort&#x27;: 1.0, &#x27;an&#x27;:<br>1.0, &#x27;making&#x27;: 1.0, ...</td>\n",
       "    </tr>\n",
       "    <tr>\n",
       "        <td style=\"padding-left: 1em; padding-right: 1em; text-align: center; vertical-align: top\">If you like original gut<br>wrenching laughter you ...</td>\n",
       "        <td style=\"padding-left: 1em; padding-right: 1em; text-align: center; vertical-align: top\">positive</td>\n",
       "        <td style=\"padding-left: 1em; padding-right: 1em; text-align: center; vertical-align: top\">{&#x27;camp&#x27;: 1.0, &#x27;great&#x27;:<br>1.0, &#x27;movie&#x27;: 2.0, ...</td>\n",
       "    </tr>\n",
       "</table>\n",
       "[50000 rows x 3 columns]<br/>Note: Only the head of the SFrame is printed.<br/>You can use print_rows(num_rows=m, num_columns=n) to print more rows and columns.\n",
       "</div>"
      ],
      "text/plain": [
       "Columns:\n",
       "\treview\tstr\n",
       "\tsentiment\tstr\n",
       "\twords\tdict\n",
       "\n",
       "Rows: 50000\n",
       "\n",
       "Data:\n",
       "+-------------------------------+-----------+-------------------------------+\n",
       "|             review            | sentiment |             words             |\n",
       "+-------------------------------+-----------+-------------------------------+\n",
       "| One of the other reviewers... |  positive | {'darker': 1.0, 'touch': 1... |\n",
       "| A wonderful little product... |  positive | {'done': 1.0, 'surface': 1... |\n",
       "| I thought this was a wonde... |  positive | {'go': 1.0, 'superman': 1.... |\n",
       "| Basically there's a family... |  negative | {'them': 1.0, 'ignore': 1.... |\n",
       "| Petter Mattei's \"Love in t... |  positive | {'work': 1.0, 'for': 1.0, ... |\n",
       "| Probably my all-time favor... |  positive | {'for': 1.0, 'dozen': 1.0,... |\n",
       "| I sure would like to see a... |  positive | {'do': 1.0, 'go': 1.0, 's'... |\n",
       "| This show was an amazing, ... |  negative | {'awful': 1.0, 'just': 1.0... |\n",
       "| Encouraged by the positive... |  negative | {'effort': 1.0, 'an': 1.0,... |\n",
       "| If you like original gut w... |  positive | {'camp': 1.0, 'great': 1.0... |\n",
       "+-------------------------------+-----------+-------------------------------+\n",
       "[50000 rows x 3 columns]\n",
       "Note: Only the head of the SFrame is printed.\n",
       "You can use print_rows(num_rows=m, num_columns=n) to print more rows and columns."
      ]
     },
     "execution_count": 3,
     "metadata": {},
     "output_type": "execute_result"
    }
   ],
   "source": [
    "movies['words'] = tc.text_analytics.count_words(movies['review'])\n",
    "movies"
   ]
  },
  {
   "cell_type": "markdown",
   "metadata": {},
   "source": [
    "### 2c) The tc.text_analytics.count_words() function is a built-in Turi Create function from the text_analytics package. The function turns the text of a sentence into a dictionary with the word counts. The texts of the review are stored as a string, then the function counts the occurrences of the word for each review. Each word is stored as the key of the dictionary, and the occurrences of the word are the value in that dictionary. "
   ]
  },
  {
   "cell_type": "code",
   "execution_count": 4,
   "metadata": {},
   "outputs": [
    {
     "name": "stdout",
     "output_type": "stream",
     "text": [
      "PROGRESS: Creating a validation set from 5 percent of training data. This may take a while.\n",
      "          You can set ``validation_set=None`` to disable validation tracking.\n",
      "\n"
     ]
    },
    {
     "data": {
      "text/html": [
       "<pre>Logistic regression:</pre>"
      ],
      "text/plain": [
       "Logistic regression:"
      ]
     },
     "metadata": {},
     "output_type": "display_data"
    },
    {
     "data": {
      "text/html": [
       "<pre>--------------------------------------------------------</pre>"
      ],
      "text/plain": [
       "--------------------------------------------------------"
      ]
     },
     "metadata": {},
     "output_type": "display_data"
    },
    {
     "data": {
      "text/html": [
       "<pre>Number of examples          : 47500</pre>"
      ],
      "text/plain": [
       "Number of examples          : 47500"
      ]
     },
     "metadata": {},
     "output_type": "display_data"
    },
    {
     "data": {
      "text/html": [
       "<pre>Number of classes           : 2</pre>"
      ],
      "text/plain": [
       "Number of classes           : 2"
      ]
     },
     "metadata": {},
     "output_type": "display_data"
    },
    {
     "data": {
      "text/html": [
       "<pre>Number of feature columns   : 1</pre>"
      ],
      "text/plain": [
       "Number of feature columns   : 1"
      ]
     },
     "metadata": {},
     "output_type": "display_data"
    },
    {
     "data": {
      "text/html": [
       "<pre>Number of unpacked features : 101660</pre>"
      ],
      "text/plain": [
       "Number of unpacked features : 101660"
      ]
     },
     "metadata": {},
     "output_type": "display_data"
    },
    {
     "data": {
      "text/html": [
       "<pre>Number of coefficients      : 101661</pre>"
      ],
      "text/plain": [
       "Number of coefficients      : 101661"
      ]
     },
     "metadata": {},
     "output_type": "display_data"
    },
    {
     "data": {
      "text/html": [
       "<pre>Starting L-BFGS</pre>"
      ],
      "text/plain": [
       "Starting L-BFGS"
      ]
     },
     "metadata": {},
     "output_type": "display_data"
    },
    {
     "data": {
      "text/html": [
       "<pre>--------------------------------------------------------</pre>"
      ],
      "text/plain": [
       "--------------------------------------------------------"
      ]
     },
     "metadata": {},
     "output_type": "display_data"
    },
    {
     "data": {
      "text/html": [
       "<pre>+-----------+----------+-----------+--------------+-------------------+---------------------+</pre>"
      ],
      "text/plain": [
       "+-----------+----------+-----------+--------------+-------------------+---------------------+"
      ]
     },
     "metadata": {},
     "output_type": "display_data"
    },
    {
     "data": {
      "text/html": [
       "<pre>| Iteration | Passes   | Step size | Elapsed Time | Training Accuracy | Validation Accuracy |</pre>"
      ],
      "text/plain": [
       "| Iteration | Passes   | Step size | Elapsed Time | Training Accuracy | Validation Accuracy |"
      ]
     },
     "metadata": {},
     "output_type": "display_data"
    },
    {
     "data": {
      "text/html": [
       "<pre>+-----------+----------+-----------+--------------+-------------------+---------------------+</pre>"
      ],
      "text/plain": [
       "+-----------+----------+-----------+--------------+-------------------+---------------------+"
      ]
     },
     "metadata": {},
     "output_type": "display_data"
    },
    {
     "data": {
      "text/html": [
       "<pre>| 0         | 2        | 1.000000  | 1.164903     | 0.917600          | 0.856800            |</pre>"
      ],
      "text/plain": [
       "| 0         | 2        | 1.000000  | 1.164903     | 0.917600          | 0.856800            |"
      ]
     },
     "metadata": {},
     "output_type": "display_data"
    },
    {
     "data": {
      "text/html": [
       "<pre>| 1         | 4        | 1.000000  | 1.343996     | 0.936274          | 0.840000            |</pre>"
      ],
      "text/plain": [
       "| 1         | 4        | 1.000000  | 1.343996     | 0.936274          | 0.840000            |"
      ]
     },
     "metadata": {},
     "output_type": "display_data"
    },
    {
     "data": {
      "text/html": [
       "<pre>| 2         | 9        | 0.630543  | 1.693933     | 0.966211          | 0.877600            |</pre>"
      ],
      "text/plain": [
       "| 2         | 9        | 0.630543  | 1.693933     | 0.966211          | 0.877600            |"
      ]
     },
     "metadata": {},
     "output_type": "display_data"
    },
    {
     "data": {
      "text/html": [
       "<pre>| 3         | 11       | 0.630543  | 1.861909     | 0.975263          | 0.884800            |</pre>"
      ],
      "text/plain": [
       "| 3         | 11       | 0.630543  | 1.861909     | 0.975263          | 0.884800            |"
      ]
     },
     "metadata": {},
     "output_type": "display_data"
    },
    {
     "data": {
      "text/html": [
       "<pre>| 4         | 13       | 0.630543  | 2.037939     | 0.983011          | 0.896800            |</pre>"
      ],
      "text/plain": [
       "| 4         | 13       | 0.630543  | 2.037939     | 0.983011          | 0.896800            |"
      ]
     },
     "metadata": {},
     "output_type": "display_data"
    },
    {
     "data": {
      "text/html": [
       "<pre>| 9         | 18       | 1.000000  | 2.615833     | 0.999600          | 0.882400            |</pre>"
      ],
      "text/plain": [
       "| 9         | 18       | 1.000000  | 2.615833     | 0.999600          | 0.882400            |"
      ]
     },
     "metadata": {},
     "output_type": "display_data"
    },
    {
     "data": {
      "text/html": [
       "<pre>+-----------+----------+-----------+--------------+-------------------+---------------------+</pre>"
      ],
      "text/plain": [
       "+-----------+----------+-----------+--------------+-------------------+---------------------+"
      ]
     },
     "metadata": {},
     "output_type": "display_data"
    }
   ],
   "source": [
    "model = tc.logistic_classifier.create(movies, features=['words'], target='sentiment')"
   ]
  },
  {
   "cell_type": "markdown",
   "metadata": {},
   "source": [
    "### 2d) We created a words column to store the word counts into a dictionary. We process the review as the string, and each word will be a different feature. The number of words that appear in a review will be used to predict whether the review is positive or negative. The result is based on the number of positive words and the number of negative words that occur in a review. "
   ]
  },
  {
   "cell_type": "markdown",
   "metadata": {},
   "source": [
    "### 2e) From the table above, we can see that the iteration started from 0 and ended at 9, so the model iterates 10 times so there are 10 epochs of training are done."
   ]
  },
  {
   "cell_type": "markdown",
   "metadata": {},
   "source": [
    "### 2f) 5% of the data are used as the validation set. From the table above, noticed that the training accuracy for iteration 0, 1, 2, 3, 4, 9 are 0.917600, 0.936274, 0.966211, 0.975263, 0.983011, and 0.999600 respectively. The validation accuracy for iteration 0, 1, 2, 3, 4, 9 are 0.856800, 0.840000, 0.877600, 0.884800, 0.896800, and 0.882400 respectively. The model ended with a training accuracy of 0.999600 and a validation accuracy of 0.882400. The model is able to perform with 88.24% accuracy on new data. The training accuracy is higher.  It is expected because only 5% of data are used as the validation set, which the dataset set is used to check how well the model is able to make predictions based on data it hasn't seen before. The model is already familiar with the training dataset but the validation dataset is new to the model; therefore, the training accuracy is expected to be high than the training accuracy.  "
   ]
  },
  {
   "cell_type": "code",
   "execution_count": 5,
   "metadata": {},
   "outputs": [
    {
     "data": {
      "text/plain": [
       "Class                          : LogisticClassifier\n",
       "\n",
       "Schema\n",
       "------\n",
       "Number of coefficients         : 101661\n",
       "Number of examples             : 47500\n",
       "Number of classes              : 2\n",
       "Number of feature columns      : 1\n",
       "Number of unpacked features    : 101660\n",
       "\n",
       "Hyperparameters\n",
       "---------------\n",
       "L1 penalty                     : 0.0\n",
       "L2 penalty                     : 0.01\n",
       "\n",
       "Training Summary\n",
       "----------------\n",
       "Solver                         : lbfgs\n",
       "Solver iterations              : 10\n",
       "Solver status                  : Completed (Iteration limit reached).\n",
       "Training time (sec)            : 1.1867\n",
       "\n",
       "Settings\n",
       "--------\n",
       "Log-likelihood                 : 472.2715\n",
       "\n",
       "Highest Positive Coefficients\n",
       "-----------------------------\n",
       "words[sendak]                  : 44.8536\n",
       "words[gic]                     : 44.8536\n",
       "words[widdecombe]              : 32.0042\n",
       "words[distrusting]             : 32.0042\n",
       "words[aleination]              : 28.9013\n",
       "\n",
       "Lowest Negative Coefficients\n",
       "----------------------------\n",
       "words[drosselmeier]            : -70.9083\n",
       "words[eta]                     : -35.9137\n",
       "words[nanites]                 : -24.8396\n",
       "words[choreographic]           : -21.0035\n",
       "words[newlwed]                 : -13.4257"
      ]
     },
     "execution_count": 5,
     "metadata": {},
     "output_type": "execute_result"
    }
   ],
   "source": [
    "model"
   ]
  },
  {
   "cell_type": "markdown",
   "metadata": {},
   "source": [
    "### 2g) There are 101,661 of coefficients are in the model."
   ]
  },
  {
   "cell_type": "markdown",
   "metadata": {},
   "source": [
    "### 2h) The weight to the L1 penalty for regularization is 0 and the weight to the L2 penalty for regulariztion is 0.01. "
   ]
  },
  {
   "cell_type": "code",
   "execution_count": 6,
   "metadata": {},
   "outputs": [
    {
     "data": {
      "text/html": [
       "<div style=\"max-height:1000px;max-width:1500px;overflow:auto;\"><table frame=\"box\" rules=\"cols\">\n",
       "    <tr>\n",
       "        <th style=\"padding-left: 1em; padding-right: 1em; text-align: center\">name</th>\n",
       "        <th style=\"padding-left: 1em; padding-right: 1em; text-align: center\">index</th>\n",
       "        <th style=\"padding-left: 1em; padding-right: 1em; text-align: center\">class</th>\n",
       "        <th style=\"padding-left: 1em; padding-right: 1em; text-align: center\">value</th>\n",
       "        <th style=\"padding-left: 1em; padding-right: 1em; text-align: center\">stderr</th>\n",
       "    </tr>\n",
       "    <tr>\n",
       "        <td style=\"padding-left: 1em; padding-right: 1em; text-align: center; vertical-align: top\">(intercept)</td>\n",
       "        <td style=\"padding-left: 1em; padding-right: 1em; text-align: center; vertical-align: top\">None</td>\n",
       "        <td style=\"padding-left: 1em; padding-right: 1em; text-align: center; vertical-align: top\">positive</td>\n",
       "        <td style=\"padding-left: 1em; padding-right: 1em; text-align: center; vertical-align: top\">0.11321421383120678</td>\n",
       "        <td style=\"padding-left: 1em; padding-right: 1em; text-align: center; vertical-align: top\">None</td>\n",
       "    </tr>\n",
       "    <tr>\n",
       "        <td style=\"padding-left: 1em; padding-right: 1em; text-align: center; vertical-align: top\">words</td>\n",
       "        <td style=\"padding-left: 1em; padding-right: 1em; text-align: center; vertical-align: top\">darker</td>\n",
       "        <td style=\"padding-left: 1em; padding-right: 1em; text-align: center; vertical-align: top\">positive</td>\n",
       "        <td style=\"padding-left: 1em; padding-right: 1em; text-align: center; vertical-align: top\">0.48004309270921713</td>\n",
       "        <td style=\"padding-left: 1em; padding-right: 1em; text-align: center; vertical-align: top\">None</td>\n",
       "    </tr>\n",
       "    <tr>\n",
       "        <td style=\"padding-left: 1em; padding-right: 1em; text-align: center; vertical-align: top\">words</td>\n",
       "        <td style=\"padding-left: 1em; padding-right: 1em; text-align: center; vertical-align: top\">touch</td>\n",
       "        <td style=\"padding-left: 1em; padding-right: 1em; text-align: center; vertical-align: top\">positive</td>\n",
       "        <td style=\"padding-left: 1em; padding-right: 1em; text-align: center; vertical-align: top\">0.20644753896367019</td>\n",
       "        <td style=\"padding-left: 1em; padding-right: 1em; text-align: center; vertical-align: top\">None</td>\n",
       "    </tr>\n",
       "    <tr>\n",
       "        <td style=\"padding-left: 1em; padding-right: 1em; text-align: center; vertical-align: top\">words</td>\n",
       "        <td style=\"padding-left: 1em; padding-right: 1em; text-align: center; vertical-align: top\">thats</td>\n",
       "        <td style=\"padding-left: 1em; padding-right: 1em; text-align: center; vertical-align: top\">positive</td>\n",
       "        <td style=\"padding-left: 1em; padding-right: 1em; text-align: center; vertical-align: top\">-0.3977478976394822</td>\n",
       "        <td style=\"padding-left: 1em; padding-right: 1em; text-align: center; vertical-align: top\">None</td>\n",
       "    </tr>\n",
       "    <tr>\n",
       "        <td style=\"padding-left: 1em; padding-right: 1em; text-align: center; vertical-align: top\">words</td>\n",
       "        <td style=\"padding-left: 1em; padding-right: 1em; text-align: center; vertical-align: top\">your</td>\n",
       "        <td style=\"padding-left: 1em; padding-right: 1em; text-align: center; vertical-align: top\">positive</td>\n",
       "        <td style=\"padding-left: 1em; padding-right: 1em; text-align: center; vertical-align: top\">-0.020570217177958334</td>\n",
       "        <td style=\"padding-left: 1em; padding-right: 1em; text-align: center; vertical-align: top\">None</td>\n",
       "    </tr>\n",
       "    <tr>\n",
       "        <td style=\"padding-left: 1em; padding-right: 1em; text-align: center; vertical-align: top\">words</td>\n",
       "        <td style=\"padding-left: 1em; padding-right: 1em; text-align: center; vertical-align: top\">viewing</td>\n",
       "        <td style=\"padding-left: 1em; padding-right: 1em; text-align: center; vertical-align: top\">positive</td>\n",
       "        <td style=\"padding-left: 1em; padding-right: 1em; text-align: center; vertical-align: top\">0.12541121536462171</td>\n",
       "        <td style=\"padding-left: 1em; padding-right: 1em; text-align: center; vertical-align: top\">None</td>\n",
       "    </tr>\n",
       "    <tr>\n",
       "        <td style=\"padding-left: 1em; padding-right: 1em; text-align: center; vertical-align: top\">words</td>\n",
       "        <td style=\"padding-left: 1em; padding-right: 1em; text-align: center; vertical-align: top\">their</td>\n",
       "        <td style=\"padding-left: 1em; padding-right: 1em; text-align: center; vertical-align: top\">positive</td>\n",
       "        <td style=\"padding-left: 1em; padding-right: 1em; text-align: center; vertical-align: top\">0.016792942314132323</td>\n",
       "        <td style=\"padding-left: 1em; padding-right: 1em; text-align: center; vertical-align: top\">None</td>\n",
       "    </tr>\n",
       "    <tr>\n",
       "        <td style=\"padding-left: 1em; padding-right: 1em; text-align: center; vertical-align: top\">words</td>\n",
       "        <td style=\"padding-left: 1em; padding-right: 1em; text-align: center; vertical-align: top\">into</td>\n",
       "        <td style=\"padding-left: 1em; padding-right: 1em; text-align: center; vertical-align: top\">positive</td>\n",
       "        <td style=\"padding-left: 1em; padding-right: 1em; text-align: center; vertical-align: top\">-0.004248681285055308</td>\n",
       "        <td style=\"padding-left: 1em; padding-right: 1em; text-align: center; vertical-align: top\">None</td>\n",
       "    </tr>\n",
       "    <tr>\n",
       "        <td style=\"padding-left: 1em; padding-right: 1em; text-align: center; vertical-align: top\">words</td>\n",
       "        <td style=\"padding-left: 1em; padding-right: 1em; text-align: center; vertical-align: top\">turned</td>\n",
       "        <td style=\"padding-left: 1em; padding-right: 1em; text-align: center; vertical-align: top\">positive</td>\n",
       "        <td style=\"padding-left: 1em; padding-right: 1em; text-align: center; vertical-align: top\">-0.24462918867409988</td>\n",
       "        <td style=\"padding-left: 1em; padding-right: 1em; text-align: center; vertical-align: top\">None</td>\n",
       "    </tr>\n",
       "    <tr>\n",
       "        <td style=\"padding-left: 1em; padding-right: 1em; text-align: center; vertical-align: top\">words</td>\n",
       "        <td style=\"padding-left: 1em; padding-right: 1em; text-align: center; vertical-align: top\">being</td>\n",
       "        <td style=\"padding-left: 1em; padding-right: 1em; text-align: center; vertical-align: top\">positive</td>\n",
       "        <td style=\"padding-left: 1em; padding-right: 1em; text-align: center; vertical-align: top\">-0.017940915871508683</td>\n",
       "        <td style=\"padding-left: 1em; padding-right: 1em; text-align: center; vertical-align: top\">None</td>\n",
       "    </tr>\n",
       "</table>\n",
       "[101661 rows x 5 columns]<br/>Note: Only the head of the SFrame is printed.<br/>You can use print_rows(num_rows=m, num_columns=n) to print more rows and columns.\n",
       "</div>"
      ],
      "text/plain": [
       "Columns:\n",
       "\tname\tstr\n",
       "\tindex\tstr\n",
       "\tclass\tstr\n",
       "\tvalue\tfloat\n",
       "\tstderr\tfloat\n",
       "\n",
       "Rows: 101661\n",
       "\n",
       "Data:\n",
       "+-------------+---------+----------+-----------------------+--------+\n",
       "|     name    |  index  |  class   |         value         | stderr |\n",
       "+-------------+---------+----------+-----------------------+--------+\n",
       "| (intercept) |   None  | positive |  0.11321421383120678  |  None  |\n",
       "|    words    |  darker | positive |  0.48004309270921713  |  None  |\n",
       "|    words    |  touch  | positive |  0.20644753896367019  |  None  |\n",
       "|    words    |  thats  | positive |  -0.3977478976394822  |  None  |\n",
       "|    words    |   your  | positive | -0.020570217177958334 |  None  |\n",
       "|    words    | viewing | positive |  0.12541121536462171  |  None  |\n",
       "|    words    |  their  | positive |  0.016792942314132323 |  None  |\n",
       "|    words    |   into  | positive | -0.004248681285055308 |  None  |\n",
       "|    words    |  turned | positive |  -0.24462918867409988 |  None  |\n",
       "|    words    |  being  | positive | -0.017940915871508683 |  None  |\n",
       "+-------------+---------+----------+-----------------------+--------+\n",
       "[101661 rows x 5 columns]\n",
       "Note: Only the head of the SFrame is printed.\n",
       "You can use print_rows(num_rows=m, num_columns=n) to print more rows and columns."
      ]
     },
     "execution_count": 6,
     "metadata": {},
     "output_type": "execute_result"
    }
   ],
   "source": [
    "weights = model.coefficients\n",
    "weights"
   ]
  },
  {
   "cell_type": "code",
   "execution_count": 7,
   "metadata": {},
   "outputs": [
    {
     "data": {
      "text/html": [
       "<div style=\"max-height:1000px;max-width:1500px;overflow:auto;\"><table frame=\"box\" rules=\"cols\">\n",
       "    <tr>\n",
       "        <th style=\"padding-left: 1em; padding-right: 1em; text-align: center\">name</th>\n",
       "        <th style=\"padding-left: 1em; padding-right: 1em; text-align: center\">index</th>\n",
       "        <th style=\"padding-left: 1em; padding-right: 1em; text-align: center\">class</th>\n",
       "        <th style=\"padding-left: 1em; padding-right: 1em; text-align: center\">value</th>\n",
       "        <th style=\"padding-left: 1em; padding-right: 1em; text-align: center\">stderr</th>\n",
       "    </tr>\n",
       "    <tr>\n",
       "        <td style=\"padding-left: 1em; padding-right: 1em; text-align: center; vertical-align: top\">words</td>\n",
       "        <td style=\"padding-left: 1em; padding-right: 1em; text-align: center; vertical-align: top\">drosselmeier</td>\n",
       "        <td style=\"padding-left: 1em; padding-right: 1em; text-align: center; vertical-align: top\">positive</td>\n",
       "        <td style=\"padding-left: 1em; padding-right: 1em; text-align: center; vertical-align: top\">-70.90827141379647</td>\n",
       "        <td style=\"padding-left: 1em; padding-right: 1em; text-align: center; vertical-align: top\">None</td>\n",
       "    </tr>\n",
       "    <tr>\n",
       "        <td style=\"padding-left: 1em; padding-right: 1em; text-align: center; vertical-align: top\">words</td>\n",
       "        <td style=\"padding-left: 1em; padding-right: 1em; text-align: center; vertical-align: top\">eta</td>\n",
       "        <td style=\"padding-left: 1em; padding-right: 1em; text-align: center; vertical-align: top\">positive</td>\n",
       "        <td style=\"padding-left: 1em; padding-right: 1em; text-align: center; vertical-align: top\">-35.91368312140312</td>\n",
       "        <td style=\"padding-left: 1em; padding-right: 1em; text-align: center; vertical-align: top\">None</td>\n",
       "    </tr>\n",
       "    <tr>\n",
       "        <td style=\"padding-left: 1em; padding-right: 1em; text-align: center; vertical-align: top\">words</td>\n",
       "        <td style=\"padding-left: 1em; padding-right: 1em; text-align: center; vertical-align: top\">nanites</td>\n",
       "        <td style=\"padding-left: 1em; padding-right: 1em; text-align: center; vertical-align: top\">positive</td>\n",
       "        <td style=\"padding-left: 1em; padding-right: 1em; text-align: center; vertical-align: top\">-24.83955701603244</td>\n",
       "        <td style=\"padding-left: 1em; padding-right: 1em; text-align: center; vertical-align: top\">None</td>\n",
       "    </tr>\n",
       "    <tr>\n",
       "        <td style=\"padding-left: 1em; padding-right: 1em; text-align: center; vertical-align: top\">words</td>\n",
       "        <td style=\"padding-left: 1em; padding-right: 1em; text-align: center; vertical-align: top\">choreographic</td>\n",
       "        <td style=\"padding-left: 1em; padding-right: 1em; text-align: center; vertical-align: top\">positive</td>\n",
       "        <td style=\"padding-left: 1em; padding-right: 1em; text-align: center; vertical-align: top\">-21.00350980517402</td>\n",
       "        <td style=\"padding-left: 1em; padding-right: 1em; text-align: center; vertical-align: top\">None</td>\n",
       "    </tr>\n",
       "    <tr>\n",
       "        <td style=\"padding-left: 1em; padding-right: 1em; text-align: center; vertical-align: top\">words</td>\n",
       "        <td style=\"padding-left: 1em; padding-right: 1em; text-align: center; vertical-align: top\">newlwed</td>\n",
       "        <td style=\"padding-left: 1em; padding-right: 1em; text-align: center; vertical-align: top\">positive</td>\n",
       "        <td style=\"padding-left: 1em; padding-right: 1em; text-align: center; vertical-align: top\">-13.425744255431141</td>\n",
       "        <td style=\"padding-left: 1em; padding-right: 1em; text-align: center; vertical-align: top\">None</td>\n",
       "    </tr>\n",
       "    <tr>\n",
       "        <td style=\"padding-left: 1em; padding-right: 1em; text-align: center; vertical-align: top\">words</td>\n",
       "        <td style=\"padding-left: 1em; padding-right: 1em; text-align: center; vertical-align: top\">sierre</td>\n",
       "        <td style=\"padding-left: 1em; padding-right: 1em; text-align: center; vertical-align: top\">positive</td>\n",
       "        <td style=\"padding-left: 1em; padding-right: 1em; text-align: center; vertical-align: top\">-13.379433032016859</td>\n",
       "        <td style=\"padding-left: 1em; padding-right: 1em; text-align: center; vertical-align: top\">None</td>\n",
       "    </tr>\n",
       "    <tr>\n",
       "        <td style=\"padding-left: 1em; padding-right: 1em; text-align: center; vertical-align: top\">words</td>\n",
       "        <td style=\"padding-left: 1em; padding-right: 1em; text-align: center; vertical-align: top\">poolguy</td>\n",
       "        <td style=\"padding-left: 1em; padding-right: 1em; text-align: center; vertical-align: top\">positive</td>\n",
       "        <td style=\"padding-left: 1em; padding-right: 1em; text-align: center; vertical-align: top\">-12.984192095535354</td>\n",
       "        <td style=\"padding-left: 1em; padding-right: 1em; text-align: center; vertical-align: top\">None</td>\n",
       "    </tr>\n",
       "    <tr>\n",
       "        <td style=\"padding-left: 1em; padding-right: 1em; text-align: center; vertical-align: top\">words</td>\n",
       "        <td style=\"padding-left: 1em; padding-right: 1em; text-align: center; vertical-align: top\">bsed</td>\n",
       "        <td style=\"padding-left: 1em; padding-right: 1em; text-align: center; vertical-align: top\">positive</td>\n",
       "        <td style=\"padding-left: 1em; padding-right: 1em; text-align: center; vertical-align: top\">-12.930967704749738</td>\n",
       "        <td style=\"padding-left: 1em; padding-right: 1em; text-align: center; vertical-align: top\">None</td>\n",
       "    </tr>\n",
       "    <tr>\n",
       "        <td style=\"padding-left: 1em; padding-right: 1em; text-align: center; vertical-align: top\">words</td>\n",
       "        <td style=\"padding-left: 1em; padding-right: 1em; text-align: center; vertical-align: top\">nonsenseful</td>\n",
       "        <td style=\"padding-left: 1em; padding-right: 1em; text-align: center; vertical-align: top\">positive</td>\n",
       "        <td style=\"padding-left: 1em; padding-right: 1em; text-align: center; vertical-align: top\">-12.892688768200786</td>\n",
       "        <td style=\"padding-left: 1em; padding-right: 1em; text-align: center; vertical-align: top\">None</td>\n",
       "    </tr>\n",
       "    <tr>\n",
       "        <td style=\"padding-left: 1em; padding-right: 1em; text-align: center; vertical-align: top\">words</td>\n",
       "        <td style=\"padding-left: 1em; padding-right: 1em; text-align: center; vertical-align: top\">unfortuntately</td>\n",
       "        <td style=\"padding-left: 1em; padding-right: 1em; text-align: center; vertical-align: top\">positive</td>\n",
       "        <td style=\"padding-left: 1em; padding-right: 1em; text-align: center; vertical-align: top\">-12.863293183865931</td>\n",
       "        <td style=\"padding-left: 1em; padding-right: 1em; text-align: center; vertical-align: top\">None</td>\n",
       "    </tr>\n",
       "</table>\n",
       "[101661 rows x 5 columns]<br/>Note: Only the head of the SFrame is printed.<br/>You can use print_rows(num_rows=m, num_columns=n) to print more rows and columns.\n",
       "</div>"
      ],
      "text/plain": [
       "Columns:\n",
       "\tname\tstr\n",
       "\tindex\tstr\n",
       "\tclass\tstr\n",
       "\tvalue\tfloat\n",
       "\tstderr\tfloat\n",
       "\n",
       "Rows: 101661\n",
       "\n",
       "Data:\n",
       "+-------+----------------+----------+---------------------+--------+\n",
       "|  name |     index      |  class   |        value        | stderr |\n",
       "+-------+----------------+----------+---------------------+--------+\n",
       "| words |  drosselmeier  | positive |  -70.90827141379647 |  None  |\n",
       "| words |      eta       | positive |  -35.91368312140312 |  None  |\n",
       "| words |    nanites     | positive |  -24.83955701603244 |  None  |\n",
       "| words | choreographic  | positive |  -21.00350980517402 |  None  |\n",
       "| words |    newlwed     | positive | -13.425744255431141 |  None  |\n",
       "| words |     sierre     | positive | -13.379433032016859 |  None  |\n",
       "| words |    poolguy     | positive | -12.984192095535354 |  None  |\n",
       "| words |      bsed      | positive | -12.930967704749738 |  None  |\n",
       "| words |  nonsenseful   | positive | -12.892688768200786 |  None  |\n",
       "| words | unfortuntately | positive | -12.863293183865931 |  None  |\n",
       "+-------+----------------+----------+---------------------+--------+\n",
       "[101661 rows x 5 columns]\n",
       "Note: Only the head of the SFrame is printed.\n",
       "You can use print_rows(num_rows=m, num_columns=n) to print more rows and columns."
      ]
     },
     "execution_count": 7,
     "metadata": {},
     "output_type": "execute_result"
    }
   ],
   "source": [
    "weights.sort('value')"
   ]
  },
  {
   "cell_type": "code",
   "execution_count": 8,
   "metadata": {},
   "outputs": [
    {
     "data": {
      "text/html": [
       "<div style=\"max-height:1000px;max-width:1500px;overflow:auto;\"><table frame=\"box\" rules=\"cols\">\n",
       "    <tr>\n",
       "        <th style=\"padding-left: 1em; padding-right: 1em; text-align: center\">name</th>\n",
       "        <th style=\"padding-left: 1em; padding-right: 1em; text-align: center\">index</th>\n",
       "        <th style=\"padding-left: 1em; padding-right: 1em; text-align: center\">class</th>\n",
       "        <th style=\"padding-left: 1em; padding-right: 1em; text-align: center\">value</th>\n",
       "        <th style=\"padding-left: 1em; padding-right: 1em; text-align: center\">stderr</th>\n",
       "    </tr>\n",
       "    <tr>\n",
       "        <td style=\"padding-left: 1em; padding-right: 1em; text-align: center; vertical-align: top\">words</td>\n",
       "        <td style=\"padding-left: 1em; padding-right: 1em; text-align: center; vertical-align: top\">sendak</td>\n",
       "        <td style=\"padding-left: 1em; padding-right: 1em; text-align: center; vertical-align: top\">positive</td>\n",
       "        <td style=\"padding-left: 1em; padding-right: 1em; text-align: center; vertical-align: top\">44.8535807070221</td>\n",
       "        <td style=\"padding-left: 1em; padding-right: 1em; text-align: center; vertical-align: top\">None</td>\n",
       "    </tr>\n",
       "    <tr>\n",
       "        <td style=\"padding-left: 1em; padding-right: 1em; text-align: center; vertical-align: top\">words</td>\n",
       "        <td style=\"padding-left: 1em; padding-right: 1em; text-align: center; vertical-align: top\">gic</td>\n",
       "        <td style=\"padding-left: 1em; padding-right: 1em; text-align: center; vertical-align: top\">positive</td>\n",
       "        <td style=\"padding-left: 1em; padding-right: 1em; text-align: center; vertical-align: top\">44.8535807070221</td>\n",
       "        <td style=\"padding-left: 1em; padding-right: 1em; text-align: center; vertical-align: top\">None</td>\n",
       "    </tr>\n",
       "    <tr>\n",
       "        <td style=\"padding-left: 1em; padding-right: 1em; text-align: center; vertical-align: top\">words</td>\n",
       "        <td style=\"padding-left: 1em; padding-right: 1em; text-align: center; vertical-align: top\">distrusting</td>\n",
       "        <td style=\"padding-left: 1em; padding-right: 1em; text-align: center; vertical-align: top\">positive</td>\n",
       "        <td style=\"padding-left: 1em; padding-right: 1em; text-align: center; vertical-align: top\">32.00415207623371</td>\n",
       "        <td style=\"padding-left: 1em; padding-right: 1em; text-align: center; vertical-align: top\">None</td>\n",
       "    </tr>\n",
       "    <tr>\n",
       "        <td style=\"padding-left: 1em; padding-right: 1em; text-align: center; vertical-align: top\">words</td>\n",
       "        <td style=\"padding-left: 1em; padding-right: 1em; text-align: center; vertical-align: top\">widdecombe</td>\n",
       "        <td style=\"padding-left: 1em; padding-right: 1em; text-align: center; vertical-align: top\">positive</td>\n",
       "        <td style=\"padding-left: 1em; padding-right: 1em; text-align: center; vertical-align: top\">32.00415207623371</td>\n",
       "        <td style=\"padding-left: 1em; padding-right: 1em; text-align: center; vertical-align: top\">None</td>\n",
       "    </tr>\n",
       "    <tr>\n",
       "        <td style=\"padding-left: 1em; padding-right: 1em; text-align: center; vertical-align: top\">words</td>\n",
       "        <td style=\"padding-left: 1em; padding-right: 1em; text-align: center; vertical-align: top\">insititue</td>\n",
       "        <td style=\"padding-left: 1em; padding-right: 1em; text-align: center; vertical-align: top\">positive</td>\n",
       "        <td style=\"padding-left: 1em; padding-right: 1em; text-align: center; vertical-align: top\">28.90125182206651</td>\n",
       "        <td style=\"padding-left: 1em; padding-right: 1em; text-align: center; vertical-align: top\">None</td>\n",
       "    </tr>\n",
       "    <tr>\n",
       "        <td style=\"padding-left: 1em; padding-right: 1em; text-align: center; vertical-align: top\">words</td>\n",
       "        <td style=\"padding-left: 1em; padding-right: 1em; text-align: center; vertical-align: top\">artisty</td>\n",
       "        <td style=\"padding-left: 1em; padding-right: 1em; text-align: center; vertical-align: top\">positive</td>\n",
       "        <td style=\"padding-left: 1em; padding-right: 1em; text-align: center; vertical-align: top\">28.90125182206651</td>\n",
       "        <td style=\"padding-left: 1em; padding-right: 1em; text-align: center; vertical-align: top\">None</td>\n",
       "    </tr>\n",
       "    <tr>\n",
       "        <td style=\"padding-left: 1em; padding-right: 1em; text-align: center; vertical-align: top\">words</td>\n",
       "        <td style=\"padding-left: 1em; padding-right: 1em; text-align: center; vertical-align: top\">embroider</td>\n",
       "        <td style=\"padding-left: 1em; padding-right: 1em; text-align: center; vertical-align: top\">positive</td>\n",
       "        <td style=\"padding-left: 1em; padding-right: 1em; text-align: center; vertical-align: top\">28.90125182206651</td>\n",
       "        <td style=\"padding-left: 1em; padding-right: 1em; text-align: center; vertical-align: top\">None</td>\n",
       "    </tr>\n",
       "    <tr>\n",
       "        <td style=\"padding-left: 1em; padding-right: 1em; text-align: center; vertical-align: top\">words</td>\n",
       "        <td style=\"padding-left: 1em; padding-right: 1em; text-align: center; vertical-align: top\">aleination</td>\n",
       "        <td style=\"padding-left: 1em; padding-right: 1em; text-align: center; vertical-align: top\">positive</td>\n",
       "        <td style=\"padding-left: 1em; padding-right: 1em; text-align: center; vertical-align: top\">28.90125182206651</td>\n",
       "        <td style=\"padding-left: 1em; padding-right: 1em; text-align: center; vertical-align: top\">None</td>\n",
       "    </tr>\n",
       "    <tr>\n",
       "        <td style=\"padding-left: 1em; padding-right: 1em; text-align: center; vertical-align: top\">words</td>\n",
       "        <td style=\"padding-left: 1em; padding-right: 1em; text-align: center; vertical-align: top\">blain</td>\n",
       "        <td style=\"padding-left: 1em; padding-right: 1em; text-align: center; vertical-align: top\">positive</td>\n",
       "        <td style=\"padding-left: 1em; padding-right: 1em; text-align: center; vertical-align: top\">25.14985973615453</td>\n",
       "        <td style=\"padding-left: 1em; padding-right: 1em; text-align: center; vertical-align: top\">None</td>\n",
       "    </tr>\n",
       "    <tr>\n",
       "        <td style=\"padding-left: 1em; padding-right: 1em; text-align: center; vertical-align: top\">words</td>\n",
       "        <td style=\"padding-left: 1em; padding-right: 1em; text-align: center; vertical-align: top\">kaleidoscopic</td>\n",
       "        <td style=\"padding-left: 1em; padding-right: 1em; text-align: center; vertical-align: top\">positive</td>\n",
       "        <td style=\"padding-left: 1em; padding-right: 1em; text-align: center; vertical-align: top\">25.14985973615453</td>\n",
       "        <td style=\"padding-left: 1em; padding-right: 1em; text-align: center; vertical-align: top\">None</td>\n",
       "    </tr>\n",
       "</table>\n",
       "[101661 rows x 5 columns]<br/>Note: Only the head of the SFrame is printed.<br/>You can use print_rows(num_rows=m, num_columns=n) to print more rows and columns.\n",
       "</div>"
      ],
      "text/plain": [
       "Columns:\n",
       "\tname\tstr\n",
       "\tindex\tstr\n",
       "\tclass\tstr\n",
       "\tvalue\tfloat\n",
       "\tstderr\tfloat\n",
       "\n",
       "Rows: 101661\n",
       "\n",
       "Data:\n",
       "+-------+---------------+----------+-------------------+--------+\n",
       "|  name |     index     |  class   |       value       | stderr |\n",
       "+-------+---------------+----------+-------------------+--------+\n",
       "| words |     sendak    | positive |  44.8535807070221 |  None  |\n",
       "| words |      gic      | positive |  44.8535807070221 |  None  |\n",
       "| words |  distrusting  | positive | 32.00415207623371 |  None  |\n",
       "| words |   widdecombe  | positive | 32.00415207623371 |  None  |\n",
       "| words |   insititue   | positive | 28.90125182206651 |  None  |\n",
       "| words |    artisty    | positive | 28.90125182206651 |  None  |\n",
       "| words |   embroider   | positive | 28.90125182206651 |  None  |\n",
       "| words |   aleination  | positive | 28.90125182206651 |  None  |\n",
       "| words |     blain     | positive | 25.14985973615453 |  None  |\n",
       "| words | kaleidoscopic | positive | 25.14985973615453 |  None  |\n",
       "+-------+---------------+----------+-------------------+--------+\n",
       "[101661 rows x 5 columns]\n",
       "Note: Only the head of the SFrame is printed.\n",
       "You can use print_rows(num_rows=m, num_columns=n) to print more rows and columns."
      ]
     },
     "execution_count": 8,
     "metadata": {},
     "output_type": "execute_result"
    }
   ],
   "source": [
    "weights.sort('value', ascending=False)"
   ]
  },
  {
   "cell_type": "code",
   "execution_count": 28,
   "metadata": {},
   "outputs": [
    {
     "name": "stdout",
     "output_type": "stream",
     "text": [
      "2i) The top 10 words that contributed to positive reviews are ['sendak', 'gic', 'distrusting', 'widdecombe', 'insititue', 'artisty', 'embroider', 'aleination', 'blain', 'kaleidoscopic']\n"
     ]
    }
   ],
   "source": [
    "print(\"2i) The top 10 words that contributed to positive reviews are\", weights.sort('value', ascending=False)[\"index\"][:10])"
   ]
  },
  {
   "cell_type": "markdown",
   "metadata": {},
   "source": [
    "### 2i) The top 10 words that contributed to positive reviews are 'sendak', 'gic', 'distrusting', 'widdecombe', 'insititue', 'artisty', 'embroider', 'aleination', 'blain', 'kaleidoscopic'."
   ]
  },
  {
   "cell_type": "code",
   "execution_count": 30,
   "metadata": {},
   "outputs": [
    {
     "name": "stdout",
     "output_type": "stream",
     "text": [
      "2j) The top 10 words that contributed to negative reviews are ['drosselmeier', 'eta', 'nanites', 'choreographic', 'newlwed', 'sierre', 'poolguy', 'bsed', 'nonsenseful', 'unfortuntately']\n"
     ]
    }
   ],
   "source": [
    "print(\"2j) The top 10 words that contributed to negative reviews are\", weights.sort('value')[\"index\"][:10])"
   ]
  },
  {
   "cell_type": "markdown",
   "metadata": {},
   "source": [
    "### 2j) 2j) The top 10 words that contributed to negative reviews are 'drosselmeier', 'eta', 'nanites', 'choreographic', 'newlwed', 'sierre', 'poolguy', 'bsed', 'nonsenseful', 'unfortuntately'."
   ]
  },
  {
   "cell_type": "code",
   "execution_count": 9,
   "metadata": {},
   "outputs": [
    {
     "data": {
      "text/html": [
       "<div style=\"max-height:1000px;max-width:1500px;overflow:auto;\"><table frame=\"box\" rules=\"cols\">\n",
       "    <tr>\n",
       "        <th style=\"padding-left: 1em; padding-right: 1em; text-align: center\">name</th>\n",
       "        <th style=\"padding-left: 1em; padding-right: 1em; text-align: center\">index</th>\n",
       "        <th style=\"padding-left: 1em; padding-right: 1em; text-align: center\">class</th>\n",
       "        <th style=\"padding-left: 1em; padding-right: 1em; text-align: center\">value</th>\n",
       "        <th style=\"padding-left: 1em; padding-right: 1em; text-align: center\">stderr</th>\n",
       "    </tr>\n",
       "    <tr>\n",
       "        <td style=\"padding-left: 1em; padding-right: 1em; text-align: center; vertical-align: top\">words</td>\n",
       "        <td style=\"padding-left: 1em; padding-right: 1em; text-align: center; vertical-align: top\">wonderful</td>\n",
       "        <td style=\"padding-left: 1em; padding-right: 1em; text-align: center; vertical-align: top\">positive</td>\n",
       "        <td style=\"padding-left: 1em; padding-right: 1em; text-align: center; vertical-align: top\">0.9969894541128703</td>\n",
       "        <td style=\"padding-left: 1em; padding-right: 1em; text-align: center; vertical-align: top\">None</td>\n",
       "    </tr>\n",
       "</table>\n",
       "[? rows x 5 columns]<br/>Note: Only the head of the SFrame is printed. This SFrame is lazily evaluated.<br/>You can use sf.materialize() to force materialization.\n",
       "</div>"
      ],
      "text/plain": [
       "Columns:\n",
       "\tname\tstr\n",
       "\tindex\tstr\n",
       "\tclass\tstr\n",
       "\tvalue\tfloat\n",
       "\tstderr\tfloat\n",
       "\n",
       "Rows: Unknown\n",
       "\n",
       "Data:\n",
       "+-------+-----------+----------+--------------------+--------+\n",
       "|  name |   index   |  class   |       value        | stderr |\n",
       "+-------+-----------+----------+--------------------+--------+\n",
       "| words | wonderful | positive | 0.9969894541128703 |  None  |\n",
       "+-------+-----------+----------+--------------------+--------+\n",
       "[? rows x 5 columns]\n",
       "Note: Only the head of the SFrame is printed. This SFrame is lazily evaluated.\n",
       "You can use sf.materialize() to force materialization."
      ]
     },
     "execution_count": 9,
     "metadata": {},
     "output_type": "execute_result"
    }
   ],
   "source": [
    "weights[weights['index']=='wonderful']"
   ]
  },
  {
   "cell_type": "code",
   "execution_count": 10,
   "metadata": {},
   "outputs": [
    {
     "data": {
      "text/html": [
       "<div style=\"max-height:1000px;max-width:1500px;overflow:auto;\"><table frame=\"box\" rules=\"cols\">\n",
       "    <tr>\n",
       "        <th style=\"padding-left: 1em; padding-right: 1em; text-align: center\">name</th>\n",
       "        <th style=\"padding-left: 1em; padding-right: 1em; text-align: center\">index</th>\n",
       "        <th style=\"padding-left: 1em; padding-right: 1em; text-align: center\">class</th>\n",
       "        <th style=\"padding-left: 1em; padding-right: 1em; text-align: center\">value</th>\n",
       "        <th style=\"padding-left: 1em; padding-right: 1em; text-align: center\">stderr</th>\n",
       "    </tr>\n",
       "    <tr>\n",
       "        <td style=\"padding-left: 1em; padding-right: 1em; text-align: center; vertical-align: top\">words</td>\n",
       "        <td style=\"padding-left: 1em; padding-right: 1em; text-align: center; vertical-align: top\">horrible</td>\n",
       "        <td style=\"padding-left: 1em; padding-right: 1em; text-align: center; vertical-align: top\">positive</td>\n",
       "        <td style=\"padding-left: 1em; padding-right: 1em; text-align: center; vertical-align: top\">-0.9998770751123641</td>\n",
       "        <td style=\"padding-left: 1em; padding-right: 1em; text-align: center; vertical-align: top\">None</td>\n",
       "    </tr>\n",
       "</table>\n",
       "[? rows x 5 columns]<br/>Note: Only the head of the SFrame is printed. This SFrame is lazily evaluated.<br/>You can use sf.materialize() to force materialization.\n",
       "</div>"
      ],
      "text/plain": [
       "Columns:\n",
       "\tname\tstr\n",
       "\tindex\tstr\n",
       "\tclass\tstr\n",
       "\tvalue\tfloat\n",
       "\tstderr\tfloat\n",
       "\n",
       "Rows: Unknown\n",
       "\n",
       "Data:\n",
       "+-------+----------+----------+---------------------+--------+\n",
       "|  name |  index   |  class   |        value        | stderr |\n",
       "+-------+----------+----------+---------------------+--------+\n",
       "| words | horrible | positive | -0.9998770751123641 |  None  |\n",
       "+-------+----------+----------+---------------------+--------+\n",
       "[? rows x 5 columns]\n",
       "Note: Only the head of the SFrame is printed. This SFrame is lazily evaluated.\n",
       "You can use sf.materialize() to force materialization."
      ]
     },
     "execution_count": 10,
     "metadata": {},
     "output_type": "execute_result"
    }
   ],
   "source": [
    "weights[weights['index']=='horrible']"
   ]
  },
  {
   "cell_type": "code",
   "execution_count": 48,
   "metadata": {},
   "outputs": [
    {
     "data": {
      "text/html": [
       "<div style=\"max-height:1000px;max-width:1500px;overflow:auto;\"><table frame=\"box\" rules=\"cols\">\n",
       "    <tr>\n",
       "        <th style=\"padding-left: 1em; padding-right: 1em; text-align: center\">name</th>\n",
       "        <th style=\"padding-left: 1em; padding-right: 1em; text-align: center\">index</th>\n",
       "        <th style=\"padding-left: 1em; padding-right: 1em; text-align: center\">class</th>\n",
       "        <th style=\"padding-left: 1em; padding-right: 1em; text-align: center\">value</th>\n",
       "        <th style=\"padding-left: 1em; padding-right: 1em; text-align: center\">stderr</th>\n",
       "    </tr>\n",
       "    <tr>\n",
       "        <td style=\"padding-left: 1em; padding-right: 1em; text-align: center; vertical-align: top\">words</td>\n",
       "        <td style=\"padding-left: 1em; padding-right: 1em; text-align: center; vertical-align: top\">the</td>\n",
       "        <td style=\"padding-left: 1em; padding-right: 1em; text-align: center; vertical-align: top\">positive</td>\n",
       "        <td style=\"padding-left: 1em; padding-right: 1em; text-align: center; vertical-align: top\">0.0004862836915785153</td>\n",
       "        <td style=\"padding-left: 1em; padding-right: 1em; text-align: center; vertical-align: top\">None</td>\n",
       "    </tr>\n",
       "</table>\n",
       "[? rows x 5 columns]<br/>Note: Only the head of the SFrame is printed. This SFrame is lazily evaluated.<br/>You can use sf.materialize() to force materialization.\n",
       "</div>"
      ],
      "text/plain": [
       "Columns:\n",
       "\tname\tstr\n",
       "\tindex\tstr\n",
       "\tclass\tstr\n",
       "\tvalue\tfloat\n",
       "\tstderr\tfloat\n",
       "\n",
       "Rows: Unknown\n",
       "\n",
       "Data:\n",
       "+-------+-------+----------+-----------------------+--------+\n",
       "|  name | index |  class   |         value         | stderr |\n",
       "+-------+-------+----------+-----------------------+--------+\n",
       "| words |  the  | positive | 0.0004862836915785153 |  None  |\n",
       "+-------+-------+----------+-----------------------+--------+\n",
       "[? rows x 5 columns]\n",
       "Note: Only the head of the SFrame is printed. This SFrame is lazily evaluated.\n",
       "You can use sf.materialize() to force materialization."
      ]
     },
     "execution_count": 48,
     "metadata": {},
     "output_type": "execute_result"
    }
   ],
   "source": [
    "weights[weights['index']=='the']"
   ]
  },
  {
   "cell_type": "markdown",
   "metadata": {},
   "source": [
    "### 2k) The weight is given to the word 'the' is 0.0004862836915785153. No, this is not a sensible value, because the word 'the' has not much meaning to either the positive or negative and it occurs in abundance in the reviews. "
   ]
  },
  {
   "cell_type": "markdown",
   "metadata": {},
   "source": [
    "### 2l) To improve this model, I will try to remove the stop words such as 'the', 'a', ' is', 'if' and so on. There are 101,661 coefficients are in the model. Removing these words can reduce the number of coefficients. Reducing the number of non-important features can help the model focus more on the important features. These words occur in abundance and they are usually not important or provide little information that can be used in sentiment analysis. We want to remove these words as much as we can to give the model more focus on the important information for prediction. These words have no meaning or value to contribute with either positive or negative sentiment. Even these words had a very small amount of weight to the model; they still slightly affect the output of the algorithm. Another way to improve the model is by normalizing the terms, some words have the same meaning but display in different tense or grammar purposes (noun, verb, adjective, and so on). For example, \"mention\" and \"mentioned\", \"watch\" and \"watching\", \"movie\" and \"movies\" have the same effect for sentiment analysis. "
   ]
  },
  {
   "cell_type": "code",
   "execution_count": null,
   "metadata": {},
   "outputs": [],
   "source": []
  },
  {
   "cell_type": "code",
   "execution_count": 12,
   "metadata": {},
   "outputs": [],
   "source": [
    "movies['predictions'] = model.predict(movies, output_type='probability')"
   ]
  },
  {
   "cell_type": "code",
   "execution_count": 13,
   "metadata": {},
   "outputs": [
    {
     "data": {
      "text/plain": [
       "{'review': \"The effects of job related stress and the pressures born of a moral dilemma that pits conscience against the obligations of a family business (albeit a unique one) all brought to a head by-- or perhaps the catalyst of-- a midlife crisis, are examined in the dark and absorbing drama, `Panic,' written and directed by Henry Bromell, and starring William H. Macy and Donald Sutherland. It's a telling look at how indecision and denial can bring about the internal strife and misery that ultimately leads to apathy and that moment of truth when the conflict must, of necessity, at last be resolved.<br /><br />\\tAlex (Macy) is tired; he has a loving wife, Martha (Tracey Ullman), a precocious six-year-old son, Sammy (David Dorfman), a mail order business he runs out of the house, as well as his main source of income, the `family' business he shares with his father, Michael (Sutherland), and his mother, Deidre (Barbara Bain). But he's empty; years of plying this particular trade have left him numb and detached, putting him in a mental state that has driven him to see a psychologist, Dr. Josh Parks (John Ritter). And to make matters worse (or maybe better, depending upon perspective), in Dr. Parks' waiting room he meets a young woman, Sarah Cassidy (Neve Campbell), whose presence alone makes him feel alive for the first time since he can remember. She quickly becomes another brick in the wall of the moral conflict his job has visited upon him, as in the days after their meeting he simply cannot stop thinking about her. His whole life, it seems, has become a `situation'-- one from which he is seemingly unable to successfully extirpate himself without hurting the ones he loves. He can deny his age and the fact that he has, indeed, slipped into a genuine midlife crisis, but he is about to discover that the problems he is facing are simply not going to go away on their own. He's at a crossroads, and he's going to have to decide which way to go. And he's going to have to do it very soon.<br /><br />\\tFrom a concept that is intrinsically interesting, Bromell has fashioned an engrossing character study that is insightful and incisive, and he presents it is a way that allows for moments of reflection that enable the audience to empathize and understand what Alex is going through. He makes it very clear that there are no simple answers, that in real life there is no easy way out. His characters are well defined and very real people who represent the diversity found in life and, moreover, within any given family unit. The film resoundingly implies that the sins of the father are irrefutably passed on to the progeny, with irrevocable consequences and effects. When you're growing up, you accept your personal environment as being that of the world at large; and often it is years into adulthood that one may begin to realize and understand that there are actually moral parameters established by every individual who walks upon the planet, and that the ones set by the father may not be conducive to the tenets of the son. And it is at that point that Alex finds himself as the story unfolds; ergo, the midlife crisis, or more specifically, the crisis of conscience from which he cannot escape. It's a powerful message, succinctly and subtly conveyed by Bromell, with the help of some outstanding performances from his actors.<br /><br />\\tFor some time, William H. Macy has been one of the premiere character actors in the business, creating such diverse characters as Quiz Kid Donnie Smith in `Magnolia,' The Shoveler in `Mystery Men' and Jerry Lundegaard in `Fargo.' And that's just a sampling of his many achievements. At one point in this film, Sarah mentions Alex's `sad eyes,' and it's a very telling comment, as therein lies the strength of Macy's performance here, his ability to convey very real emotion in an understated, believable way that expresses all of the inner turmoil he is experiencing. Consider the scene in which he is lying awake in bed, staring off into the darkness; in that one restless moment it is clear that he is grappling, not only with his immediate situation, but with everything in his life that has brought him, finally, to this point. In that scene you find the sum total of a life of guilt, confusion and uncertainty, all of which have been successfully suppressed until now; all the things that have always been at the core of Alex's life, only now gradually breaking through his defense mechanisms and finally surfacing, demanding confrontation and resolution. It's a complex character created and delivered by Macy with an absolute precision that makes Alex truly memorable. It's a character to whom anyone who has ever faced a situation of seemingly insurmountable odds will be able to relate. It's a terrific piece of work by one of the finest actors around.<br /><br />\\tSutherland is extremely effective, as well; his Michael is despicably sinister in a way that is so real it's chilling. It's frightening, in fact, to consider that there are such people actually walking the earth. This is not some pulp fiction or James Bond type villain, but a true personification of evil, hiding behind an outward appearance that is so normal he could be the guy next door, which is what makes it all the more disconcerting. And Sutherland brings it all to life brilliantly, with a great performance.<br /><br />\\tNeve Campbell looks the part of Sarah, but her performance (as is the usual case with her) seems somewhat pretentious, although her affected demeanor here just happens to fit the character and is actually a positive aspect of the film. If only she would occasionally turn her energies inward, it would make a tremendous difference in the way she presents her characters. `Panic,' however, is one of her best efforts; a powerful film that, in the end, is a journey well worth taking. 9/10. <br /><br />\",\n",
       " 'sentiment': 'positive',\n",
       " 'words': {'10': 1.0,\n",
       "  'taking': 1.0,\n",
       "  'journey': 1.0,\n",
       "  'efforts': 1.0,\n",
       "  'difference': 1.0,\n",
       "  'turn': 1.0,\n",
       "  'occasionally': 1.0,\n",
       "  'if': 1.0,\n",
       "  'fit': 1.0,\n",
       "  'although': 1.0,\n",
       "  'pretentious': 1.0,\n",
       "  'case': 1.0,\n",
       "  'part': 1.0,\n",
       "  'brilliantly': 1.0,\n",
       "  'brings': 1.0,\n",
       "  'energies': 1.0,\n",
       "  'disconcerting': 1.0,\n",
       "  'next': 1.0,\n",
       "  'guy': 1.0,\n",
       "  'normal': 1.0,\n",
       "  'appearance': 1.0,\n",
       "  'outward': 1.0,\n",
       "  'behind': 1.0,\n",
       "  '9': 1.0,\n",
       "  'hiding': 1.0,\n",
       "  'personification': 1.0,\n",
       "  'true': 1.0,\n",
       "  'best': 1.0,\n",
       "  'type': 1.0,\n",
       "  'bond': 1.0,\n",
       "  'fiction': 1.0,\n",
       "  'pulp': 1.0,\n",
       "  'loves': 1.0,\n",
       "  'hurting': 1.0,\n",
       "  'walking': 1.0,\n",
       "  'which': 6.0,\n",
       "  'from': 4.0,\n",
       "  'who': 3.0,\n",
       "  'memorable': 1.0,\n",
       "  'psychologist': 1.0,\n",
       "  'message': 1.0,\n",
       "  'life': 7.0,\n",
       "  'whole': 1.0,\n",
       "  'odds': 1.0,\n",
       "  'as': 9.0,\n",
       "  'her': 7.0,\n",
       "  'would': 2.0,\n",
       "  'thinking': 1.0,\n",
       "  'himself': 2.0,\n",
       "  'dr': 2.0,\n",
       "  'another': 1.0,\n",
       "  'quickly': 1.0,\n",
       "  'becomes': 1.0,\n",
       "  'driven': 1.0,\n",
       "  'she': 3.0,\n",
       "  'make': 2.0,\n",
       "  'makes': 4.0,\n",
       "  'created': 1.0,\n",
       "  'presence': 1.0,\n",
       "  'inward': 1.0,\n",
       "  'whose': 1.0,\n",
       "  'must': 1.0,\n",
       "  'cassidy': 1.0,\n",
       "  'sarah': 3.0,\n",
       "  'meets': 1.0,\n",
       "  'your': 1.0,\n",
       "  'many': 1.0,\n",
       "  'frightening': 1.0,\n",
       "  'successfully': 2.0,\n",
       "  'room': 1.0,\n",
       "  'are': 7.0,\n",
       "  'perspective': 1.0,\n",
       "  'upon': 3.0,\n",
       "  'characters': 3.0,\n",
       "  'uncertainty': 1.0,\n",
       "  'worse': 1.0,\n",
       "  'one': 8.0,\n",
       "  'how': 1.0,\n",
       "  'alive': 1.0,\n",
       "  'empathize': 1.0,\n",
       "  'happens': 1.0,\n",
       "  'mental': 1.0,\n",
       "  'detached': 1.0,\n",
       "  'ritter': 1.0,\n",
       "  'bromell': 3.0,\n",
       "  'therein': 1.0,\n",
       "  'neve': 2.0,\n",
       "  'after': 1.0,\n",
       "  'can': 3.0,\n",
       "  'is': 25.0,\n",
       "  'everything': 1.0,\n",
       "  'left': 1.0,\n",
       "  'work': 1.0,\n",
       "  'found': 1.0,\n",
       "  'remember': 1.0,\n",
       "  'better': 1.0,\n",
       "  'trade': 1.0,\n",
       "  'become': 1.0,\n",
       "  'state': 1.0,\n",
       "  'against': 1.0,\n",
       "  'this': 4.0,\n",
       "  'eyes': 1.0,\n",
       "  'realize': 1.0,\n",
       "  'h': 2.0,\n",
       "  'bain': 1.0,\n",
       "  'inner': 1.0,\n",
       "  'do': 1.0,\n",
       "  'putting': 1.0,\n",
       "  'looks': 1.0,\n",
       "  'seems': 2.0,\n",
       "  'see': 1.0,\n",
       "  'character': 5.0,\n",
       "  'real': 4.0,\n",
       "  'deidre': 1.0,\n",
       "  'he': 23.0,\n",
       "  'him': 6.0,\n",
       "  'without': 1.0,\n",
       "  'positive': 1.0,\n",
       "  'maybe': 1.0,\n",
       "  'days': 1.0,\n",
       "  'brick': 1.0,\n",
       "  'midlife': 3.0,\n",
       "  'mother': 1.0,\n",
       "  'misery': 1.0,\n",
       "  'usual': 1.0,\n",
       "  'conveyed': 1.0,\n",
       "  'alone': 1.0,\n",
       "  'donnie': 1.0,\n",
       "  'father': 3.0,\n",
       "  'martha': 1.0,\n",
       "  'particular': 1.0,\n",
       "  'crossroads': 1.0,\n",
       "  'income': 1.0,\n",
       "  'defined': 1.0,\n",
       "  'directed': 1.0,\n",
       "  'things': 1.0,\n",
       "  'time': 2.0,\n",
       "  'main': 1.0,\n",
       "  'in': 22.0,\n",
       "  'henry': 1.0,\n",
       "  'well': 4.0,\n",
       "  'door': 1.0,\n",
       "  'out': 2.0,\n",
       "  'strength': 1.0,\n",
       "  'for': 3.0,\n",
       "  'macy': 5.0,\n",
       "  'help': 1.0,\n",
       "  'whom': 1.0,\n",
       "  'drama': 1.0,\n",
       "  'engrossing': 1.0,\n",
       "  'sammy': 1.0,\n",
       "  'william': 2.0,\n",
       "  'ones': 2.0,\n",
       "  'end': 1.0,\n",
       "  'way': 6.0,\n",
       "  'josh': 1.0,\n",
       "  'meeting': 1.0,\n",
       "  'absorbing': 1.0,\n",
       "  'extirpate': 1.0,\n",
       "  'effective': 1.0,\n",
       "  'house': 1.0,\n",
       "  'leads': 1.0,\n",
       "  'deny': 1.0,\n",
       "  'since': 1.0,\n",
       "  'you': 3.0,\n",
       "  'examined': 1.0,\n",
       "  'simply': 2.0,\n",
       "  'adulthood': 1.0,\n",
       "  'woman': 1.0,\n",
       "  'crisis': 4.0,\n",
       "  'somewhat': 1.0,\n",
       "  'john': 1.0,\n",
       "  'awake': 1.0,\n",
       "  'insurmountable': 1.0,\n",
       "  'every': 1.0,\n",
       "  'unique': 1.0,\n",
       "  'brought': 2.0,\n",
       "  'or': 4.0,\n",
       "  'campbell': 2.0,\n",
       "  'parks': 2.0,\n",
       "  'diversity': 1.0,\n",
       "  'written': 1.0,\n",
       "  'passed': 1.0,\n",
       "  'truly': 1.0,\n",
       "  'extremely': 1.0,\n",
       "  'that': 31.0,\n",
       "  'performances': 1.0,\n",
       "  'experiencing': 1.0,\n",
       "  'depending': 1.0,\n",
       "  'moral': 3.0,\n",
       "  'and': 34.0,\n",
       "  'could': 1.0,\n",
       "  'runs': 1.0,\n",
       "  'just': 2.0,\n",
       "  'six': 1.0,\n",
       "  'clear': 2.0,\n",
       "  'dark': 1.0,\n",
       "  'tenets': 1.0,\n",
       "  'diverse': 1.0,\n",
       "  'stress': 1.0,\n",
       "  'catalyst': 1.0,\n",
       "  'unable': 1.0,\n",
       "  'conscience': 2.0,\n",
       "  'age': 1.0,\n",
       "  'tired': 1.0,\n",
       "  'ever': 1.0,\n",
       "  'matters': 1.0,\n",
       "  'plying': 1.0,\n",
       "  'relate': 1.0,\n",
       "  'dilemma': 1.0,\n",
       "  'james': 1.0,\n",
       "  'of': 31.0,\n",
       "  'old': 1.0,\n",
       "  'ultimately': 1.0,\n",
       "  'understand': 2.0,\n",
       "  'fact': 2.0,\n",
       "  'what': 2.0,\n",
       "  'visited': 1.0,\n",
       "  'only': 3.0,\n",
       "  'guilt': 1.0,\n",
       "  'to': 23.0,\n",
       "  'job': 2.0,\n",
       "  'effects': 2.0,\n",
       "  'lying': 1.0,\n",
       "  'terrific': 1.0,\n",
       "  'first': 1.0,\n",
       "  'family': 3.0,\n",
       "  'magnolia': 1.0,\n",
       "  'immediate': 1.0,\n",
       "  'albeit': 1.0,\n",
       "  'order': 1.0,\n",
       "  'donald': 1.0,\n",
       "  'sutherland': 4.0,\n",
       "  'it': 18.0,\n",
       "  'indecision': 1.0,\n",
       "  'be': 4.0,\n",
       "  'own': 1.0,\n",
       "  'telling': 2.0,\n",
       "  'incisive': 1.0,\n",
       "  'wife': 1.0,\n",
       "  'dorfman': 1.0,\n",
       "  'denial': 1.0,\n",
       "  'bring': 1.0,\n",
       "  'soon': 1.0,\n",
       "  'ergo': 1.0,\n",
       "  'moment': 2.0,\n",
       "  'about': 3.0,\n",
       "  'all': 6.0,\n",
       "  'his': 14.0,\n",
       "  'empty': 1.0,\n",
       "  'begin': 1.0,\n",
       "  'business': 4.0,\n",
       "  'people': 2.0,\n",
       "  'strife': 1.0,\n",
       "  'young': 1.0,\n",
       "  'born': 1.0,\n",
       "  'demeanor': 1.0,\n",
       "  'understated': 1.0,\n",
       "  'when': 2.0,\n",
       "  'david': 1.0,\n",
       "  'situation': 3.0,\n",
       "  'convey': 1.0,\n",
       "  'internal': 1.0,\n",
       "  'sum': 1.0,\n",
       "  'resolved': 1.0,\n",
       "  'barbara': 1.0,\n",
       "  'head': 1.0,\n",
       "  'necessity': 1.0,\n",
       "  'truth': 1.0,\n",
       "  'consider': 2.0,\n",
       "  'related': 1.0,\n",
       "  'individual': 1.0,\n",
       "  'br': 12.0,\n",
       "  'pits': 1.0,\n",
       "  're': 1.0,\n",
       "  'look': 1.0,\n",
       "  'worth': 1.0,\n",
       "  'at': 7.0,\n",
       "  'pressures': 1.0,\n",
       "  'has': 9.0,\n",
       "  'alex': 6.0,\n",
       "  'ullman': 1.0,\n",
       "  'being': 1.0,\n",
       "  'year': 1.0,\n",
       "  'son': 2.0,\n",
       "  'mail': 1.0,\n",
       "  'starring': 1.0,\n",
       "  'indeed': 1.0,\n",
       "  'achievements': 1.0,\n",
       "  'on': 2.0,\n",
       "  'slipped': 1.0,\n",
       "  'their': 2.0,\n",
       "  'men': 1.0,\n",
       "  's': 16.0,\n",
       "  'into': 3.0,\n",
       "  'concept': 1.0,\n",
       "  'through': 2.0,\n",
       "  'genuine': 1.0,\n",
       "  'finds': 1.0,\n",
       "  'decide': 1.0,\n",
       "  'discover': 1.0,\n",
       "  'seemingly': 2.0,\n",
       "  'easy': 1.0,\n",
       "  'apathy': 1.0,\n",
       "  'point': 3.0,\n",
       "  'problems': 1.0,\n",
       "  'facing': 1.0,\n",
       "  'confrontation': 1.0,\n",
       "  'may': 2.0,\n",
       "  'not': 4.0,\n",
       "  'going': 4.0,\n",
       "  'go': 2.0,\n",
       "  'away': 1.0,\n",
       "  'but': 5.0,\n",
       "  'very': 5.0,\n",
       "  'find': 1.0,\n",
       "  'intrinsically': 1.0,\n",
       "  'interesting': 1.0,\n",
       "  'wall': 1.0,\n",
       "  'years': 2.0,\n",
       "  'an': 4.0,\n",
       "  'premiere': 1.0,\n",
       "  'study': 1.0,\n",
       "  'insightful': 1.0,\n",
       "  'often': 1.0,\n",
       "  'a': 32.0,\n",
       "  'able': 1.0,\n",
       "  'tracey': 1.0,\n",
       "  'presents': 2.0,\n",
       "  'allows': 1.0,\n",
       "  'walks': 1.0,\n",
       "  'moments': 1.0,\n",
       "  'earth': 1.0,\n",
       "  'by': 7.0,\n",
       "  'last': 1.0,\n",
       "  'reflection': 1.0,\n",
       "  'waiting': 1.0,\n",
       "  'up': 1.0,\n",
       "  'numb': 1.0,\n",
       "  'enable': 1.0,\n",
       "  'audience': 1.0,\n",
       "  'there': 4.0,\n",
       "  'no': 2.0,\n",
       "  'simple': 1.0,\n",
       "  'finally': 2.0,\n",
       "  'represent': 1.0,\n",
       "  'moreover': 1.0,\n",
       "  'faced': 1.0,\n",
       "  'within': 1.0,\n",
       "  'any': 1.0,\n",
       "  'given': 1.0,\n",
       "  'unit': 1.0,\n",
       "  'film': 4.0,\n",
       "  'implies': 1.0,\n",
       "  'sins': 1.0,\n",
       "  'fashioned': 1.0,\n",
       "  'irrefutably': 1.0,\n",
       "  'lies': 1.0,\n",
       "  'progeny': 1.0,\n",
       "  'demanding': 1.0,\n",
       "  'irrevocable': 1.0,\n",
       "  'consequences': 1.0,\n",
       "  'accept': 1.0,\n",
       "  'personal': 1.0,\n",
       "  'piece': 1.0,\n",
       "  'environment': 1.0,\n",
       "  'world': 1.0,\n",
       "  'large': 1.0,\n",
       "  'obligations': 1.0,\n",
       "  'actually': 3.0,\n",
       "  'outstanding': 1.0,\n",
       "  'surfacing': 1.0,\n",
       "  'parameters': 1.0,\n",
       "  'established': 1.0,\n",
       "  'evil': 1.0,\n",
       "  'planet': 1.0,\n",
       "  'set': 1.0,\n",
       "  'with': 8.0,\n",
       "  'conducive': 1.0,\n",
       "  'here': 2.0,\n",
       "  'tremendous': 1.0,\n",
       "  'story': 1.0,\n",
       "  'panic': 2.0,\n",
       "  'unfolds': 1.0,\n",
       "  'more': 2.0,\n",
       "  'specifically': 1.0,\n",
       "  'loving': 1.0,\n",
       "  'powerful': 2.0,\n",
       "  'succinctly': 1.0,\n",
       "  'absolute': 1.0,\n",
       "  'feel': 1.0,\n",
       "  'precocious': 1.0,\n",
       "  'mystery': 1.0,\n",
       "  'subtly': 1.0,\n",
       "  'smith': 1.0,\n",
       "  'some': 3.0,\n",
       "  'been': 3.0,\n",
       "  'creating': 1.0,\n",
       "  'such': 2.0,\n",
       "  'quiz': 1.0,\n",
       "  'kid': 1.0,\n",
       "  'shoveler': 1.0,\n",
       "  'however': 1.0,\n",
       "  'jerry': 1.0,\n",
       "  'michael': 2.0,\n",
       "  'lundegaard': 1.0,\n",
       "  'stop': 1.0,\n",
       "  'fargo': 1.0,\n",
       "  'sampling': 1.0,\n",
       "  'total': 1.0,\n",
       "  'mentions': 1.0,\n",
       "  'source': 1.0,\n",
       "  'sad': 1.0,\n",
       "  'scene': 2.0,\n",
       "  'have': 5.0,\n",
       "  'staring': 1.0,\n",
       "  'aspect': 1.0,\n",
       "  'comment': 1.0,\n",
       "  'performance': 3.0,\n",
       "  'ability': 1.0,\n",
       "  'emotion': 1.0,\n",
       "  'cannot': 2.0,\n",
       "  'believable': 1.0,\n",
       "  'affected': 1.0,\n",
       "  'expresses': 1.0,\n",
       "  'turmoil': 1.0,\n",
       "  'off': 1.0,\n",
       "  'shares': 1.0,\n",
       "  'bed': 1.0,\n",
       "  'darkness': 1.0,\n",
       "  'restless': 1.0,\n",
       "  'resoundingly': 1.0,\n",
       "  'escape': 1.0,\n",
       "  'grappling': 1.0,\n",
       "  'confusion': 1.0,\n",
       "  'suppressed': 1.0,\n",
       "  'until': 1.0,\n",
       "  'villain': 1.0,\n",
       "  'now': 2.0,\n",
       "  'growing': 1.0,\n",
       "  'always': 1.0,\n",
       "  'core': 1.0,\n",
       "  'resolution': 1.0,\n",
       "  'perhaps': 1.0,\n",
       "  'gradually': 1.0,\n",
       "  'conflict': 2.0,\n",
       "  'breaking': 1.0,\n",
       "  'finest': 1.0,\n",
       "  'defense': 1.0,\n",
       "  'mechanisms': 1.0,\n",
       "  'great': 1.0,\n",
       "  'answers': 1.0,\n",
       "  'so': 2.0,\n",
       "  'complex': 1.0,\n",
       "  'delivered': 1.0,\n",
       "  'actors': 3.0,\n",
       "  'precision': 1.0,\n",
       "  'anyone': 1.0,\n",
       "  'will': 1.0,\n",
       "  'the': 52.0,\n",
       "  'around': 1.0,\n",
       "  'despicably': 1.0,\n",
       "  'sinister': 1.0,\n",
       "  'chilling': 1.0},\n",
       " 'predictions': 1.0}"
      ]
     },
     "execution_count": 13,
     "metadata": {},
     "output_type": "execute_result"
    }
   ],
   "source": [
    "movies.sort('predictions', ascending=False)[0]"
   ]
  },
  {
   "cell_type": "code",
   "execution_count": 14,
   "metadata": {},
   "outputs": [
    {
     "data": {
      "text/plain": [
       "{'review': \"The Nutcracker has always been a somewhat problematic ballet. It bears little resemblance to ETA Hoffman's original story on which it is based.<br /><br />In the ballet, the story is essentially over by the second-half when Clara (or Marie in this version) travels to the Kingdom of Sweets to watch a series of character dances.<br /><br />There's an infinite variety of stage productions that re-interpret the story in myriad ways (not always successfully) to compensate for the ballet's weak libretto.<br /><br />Balanchine's version doesn't really have any sense of drama or story at all (despite the fact that there is plenty of drama and mystery in Tchaikovsky's wonderful first-act music). The result is a completely forgettable first-half Christmas party where hardly anything happens and where even the dancing (the little that there is of it) isn't particularly memorable.<br /><br />The pantomime over-acting, particularly of Drosselmeier, which might look passable on the stage, just looks silly filmed for the big screen.<br /><br />Unfortunately, things aren't much better when we get to the Kingdom of Sweets (Act II in the stage version). Although there are a few choreographic highlights, most of the choreography is bland and uninspiring. This certainly isn't vintage Balanchine.<br /><br />Balanchine is widely regarded as a master of abstract dance, but I have always felt he was less successful as a creator of narrative ballets. Watching this film version of his stage production of The Nutcracker has only re-affirmed this view.\",\n",
       " 'sentiment': 'negative',\n",
       " 'words': {'view': 1.0,\n",
       "  'only': 1.0,\n",
       "  'production': 1.0,\n",
       "  'successful': 1.0,\n",
       "  'narrative': 1.0,\n",
       "  'was': 1.0,\n",
       "  'he': 1.0,\n",
       "  'felt': 1.0,\n",
       "  'i': 1.0,\n",
       "  'but': 1.0,\n",
       "  'dance': 1.0,\n",
       "  'abstract': 1.0,\n",
       "  'most': 1.0,\n",
       "  'creator': 1.0,\n",
       "  'highlights': 1.0,\n",
       "  'although': 1.0,\n",
       "  'get': 1.0,\n",
       "  'we': 1.0,\n",
       "  'better': 1.0,\n",
       "  'much': 1.0,\n",
       "  'aren': 1.0,\n",
       "  'unfortunately': 1.0,\n",
       "  'big': 1.0,\n",
       "  'looks': 1.0,\n",
       "  'just': 1.0,\n",
       "  'passable': 1.0,\n",
       "  'vintage': 1.0,\n",
       "  'infinite': 1.0,\n",
       "  'series': 1.0,\n",
       "  'as': 2.0,\n",
       "  'filmed': 1.0,\n",
       "  'kingdom': 2.0,\n",
       "  'might': 1.0,\n",
       "  'hoffman': 1.0,\n",
       "  'watch': 1.0,\n",
       "  'br': 12.0,\n",
       "  'things': 1.0,\n",
       "  'marie': 1.0,\n",
       "  'or': 2.0,\n",
       "  'half': 2.0,\n",
       "  'less': 1.0,\n",
       "  'sweets': 2.0,\n",
       "  'little': 2.0,\n",
       "  'travels': 1.0,\n",
       "  'by': 1.0,\n",
       "  'master': 1.0,\n",
       "  'variety': 1.0,\n",
       "  'version': 4.0,\n",
       "  'essentially': 1.0,\n",
       "  'in': 5.0,\n",
       "  'ballets': 1.0,\n",
       "  'few': 1.0,\n",
       "  'this': 4.0,\n",
       "  'which': 2.0,\n",
       "  'based': 1.0,\n",
       "  'problematic': 1.0,\n",
       "  'doesn': 1.0,\n",
       "  'certainly': 1.0,\n",
       "  'ballet': 3.0,\n",
       "  'been': 1.0,\n",
       "  'result': 1.0,\n",
       "  'that': 3.0,\n",
       "  'there': 4.0,\n",
       "  'watching': 1.0,\n",
       "  'has': 2.0,\n",
       "  'always': 3.0,\n",
       "  'bland': 1.0,\n",
       "  'silly': 1.0,\n",
       "  'somewhat': 1.0,\n",
       "  'original': 1.0,\n",
       "  'dances': 1.0,\n",
       "  'nutcracker': 2.0,\n",
       "  'drosselmeier': 1.0,\n",
       "  'it': 3.0,\n",
       "  'bears': 1.0,\n",
       "  'story': 4.0,\n",
       "  'a': 6.0,\n",
       "  't': 4.0,\n",
       "  'of': 13.0,\n",
       "  'the': 18.0,\n",
       "  'character': 1.0,\n",
       "  'to': 5.0,\n",
       "  'any': 1.0,\n",
       "  'an': 1.0,\n",
       "  'all': 1.0,\n",
       "  'uninspiring': 1.0,\n",
       "  'eta': 1.0,\n",
       "  'affirmed': 1.0,\n",
       "  'over': 2.0,\n",
       "  'on': 2.0,\n",
       "  'second': 1.0,\n",
       "  'completely': 1.0,\n",
       "  'clara': 1.0,\n",
       "  'libretto': 1.0,\n",
       "  'myriad': 1.0,\n",
       "  'choreographic': 1.0,\n",
       "  'resemblance': 1.0,\n",
       "  'stage': 4.0,\n",
       "  'acting': 1.0,\n",
       "  'productions': 1.0,\n",
       "  'interpret': 1.0,\n",
       "  'look': 1.0,\n",
       "  'is': 7.0,\n",
       "  'at': 1.0,\n",
       "  'ways': 1.0,\n",
       "  'not': 1.0,\n",
       "  'widely': 1.0,\n",
       "  'successfully': 1.0,\n",
       "  'regarded': 1.0,\n",
       "  'screen': 1.0,\n",
       "  'compensate': 1.0,\n",
       "  'for': 2.0,\n",
       "  're': 2.0,\n",
       "  'where': 2.0,\n",
       "  'when': 2.0,\n",
       "  'weak': 1.0,\n",
       "  'his': 1.0,\n",
       "  'film': 1.0,\n",
       "  'music': 1.0,\n",
       "  'particularly': 2.0,\n",
       "  'balanchine': 3.0,\n",
       "  'really': 1.0,\n",
       "  'ii': 1.0,\n",
       "  'plenty': 1.0,\n",
       "  'are': 1.0,\n",
       "  'first': 2.0,\n",
       "  'forgettable': 1.0,\n",
       "  'have': 2.0,\n",
       "  's': 5.0,\n",
       "  'hardly': 1.0,\n",
       "  'sense': 1.0,\n",
       "  'despite': 1.0,\n",
       "  'drama': 2.0,\n",
       "  'mystery': 1.0,\n",
       "  'party': 1.0,\n",
       "  'choreography': 1.0,\n",
       "  'and': 3.0,\n",
       "  'tchaikovsky': 1.0,\n",
       "  'fact': 1.0,\n",
       "  'wonderful': 1.0,\n",
       "  'act': 2.0,\n",
       "  'memorable': 1.0,\n",
       "  'pantomime': 1.0,\n",
       "  'christmas': 1.0,\n",
       "  'anything': 1.0,\n",
       "  'happens': 1.0,\n",
       "  'even': 1.0,\n",
       "  'dancing': 1.0,\n",
       "  'isn': 2.0},\n",
       " 'predictions': 1.68756659179861e-78}"
      ]
     },
     "execution_count": 14,
     "metadata": {},
     "output_type": "execute_result"
    }
   ],
   "source": [
    "movies.sort('predictions', ascending=True)[0]"
   ]
  },
  {
   "cell_type": "code",
   "execution_count": null,
   "metadata": {},
   "outputs": [],
   "source": []
  }
 ],
 "metadata": {
  "kernelspec": {
   "display_name": "Python 3 (ipykernel)",
   "language": "python",
   "name": "python3"
  },
  "language_info": {
   "codemirror_mode": {
    "name": "ipython",
    "version": 3
   },
   "file_extension": ".py",
   "mimetype": "text/x-python",
   "name": "python",
   "nbconvert_exporter": "python",
   "pygments_lexer": "ipython3",
   "version": "3.8.8"
  }
 },
 "nbformat": 4,
 "nbformat_minor": 4
}
